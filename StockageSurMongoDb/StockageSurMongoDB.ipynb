{
 "cells": [
  {
   "cell_type": "code",
   "execution_count": 1,
   "id": "8c337a7e",
   "metadata": {},
   "outputs": [],
   "source": [
    "import pymongo\n"
   ]
  },
  {
   "cell_type": "code",
   "execution_count": 2,
   "id": "61aedee4",
   "metadata": {},
   "outputs": [],
   "source": [
    "import pandas as pd"
   ]
  },
  {
   "cell_type": "code",
   "execution_count": 9,
   "id": "5335b131",
   "metadata": {},
   "outputs": [],
   "source": [
    "IphoneTel = pd.read_csv(\"C:/Users/FATOU/Desktop/ProjetNoSqlSurGit/ExtractionDesDonnees/DonneesExtraites/TelephoneIphoneJumia.csv\")\n",
    "TabletteTactile = pd.read_csv(\"C:/Users/FATOU/Desktop/ProjetNoSqlSurGit/ExtractionDesDonnees/DonneesExtraites/TabletteTabletteJumia.csv\")\n"
   ]
  },
  {
   "cell_type": "code",
   "execution_count": 7,
   "id": "8acaaf30",
   "metadata": {},
   "outputs": [],
   "source": [
    "def dftomonogdb(df,collection_name):\n",
    "    import pymongo\n",
    "    connect = pymongo.MongoClient(host=\"localhost\",port=27017)\n",
    "    database = connect[\"WebCrawling\"]\n",
    "    collection = database[collection_name]\n",
    "\n",
    "    for (row,rs) in df.iterrows():\n",
    "       \n",
    "        image = rs[0]\n",
    "        name = rs[1]\n",
    "        new_price = rs[2]\n",
    "        old_price = rs[3]\n",
    "        url =rs[4]\n",
    "        d = {\"image\":image,\"name\":name,\"new_price\":new_price,\n",
    "             \"old_price\":old_price,\"url\":url}\n",
    "        \n",
    "        collection.insert_one(d)\n",
    "        \n",
    "        \n",
    "        \n",
    "    print(\"All data are inserted to the Db\")"
   ]
  },
  {
   "cell_type": "code",
   "execution_count": 11,
   "id": "6526c22c",
   "metadata": {},
   "outputs": [
    {
     "name": "stdout",
     "output_type": "stream",
     "text": [
      "All data are inserted to the Db\n"
     ]
    }
   ],
   "source": [
    "collection_name=\"IphoneTel\"\n",
    "dftomonogdb(IphoneTel,collection_name)"
   ]
  },
  {
   "cell_type": "code",
   "execution_count": 14,
   "id": "8d552c66",
   "metadata": {},
   "outputs": [
    {
     "name": "stdout",
     "output_type": "stream",
     "text": [
      "All data are inserted to the Db\n"
     ]
    }
   ],
   "source": [
    "collection_name=\"TabletteTactile\"\n",
    "dftomonogdb(TabletteTactile,collection_name)"
   ]
  },
  {
   "cell_type": "code",
   "execution_count": 6,
   "id": "2b26e390",
   "metadata": {},
   "outputs": [],
   "source": [
    "maq=pd.read_csv(\"C:/Users/cheik/Documents/crawler/ExtractionDesDonnees/DonneesExtraites/maquillageJumia.csv\")\n",
    "ordi=pd.read_csv(\"C:/Users/cheik/Documents/crawler/ExtractionDesDonnees/DonneesExtraites/ordinateurImprimantejumia.csv\")"
   ]
  },
  {
   "cell_type": "code",
   "execution_count": 9,
   "id": "f6198fcc",
   "metadata": {},
   "outputs": [
    {
     "name": "stdout",
     "output_type": "stream",
     "text": [
      "All data are inserted to the Db\n"
     ]
    }
   ],
   "source": [
    "collection_name=\"maquillage\"\n",
    "dftomonogdb(maq,collection_name)"
   ]
  },
  {
   "cell_type": "code",
   "execution_count": 10,
   "id": "7c5e7375",
   "metadata": {},
   "outputs": [
    {
     "name": "stdout",
     "output_type": "stream",
     "text": [
      "All data are inserted to the Db\n"
     ]
    }
   ],
   "source": [
    "collection_name=\"ordinateur\"\n",
    "dftomonogdb(ordi,collection_name)"
   ]
  },
  {
   "cell_type": "code",
   "execution_count": null,
   "id": "235b3596",
   "metadata": {},
   "outputs": [],
   "source": []
  }
 ],
 "metadata": {
  "kernelspec": {
   "display_name": "Python 3 (ipykernel)",
   "language": "python",
   "name": "python3"
  },
  "language_info": {
   "codemirror_mode": {
    "name": "ipython",
    "version": 3
   },
   "file_extension": ".py",
   "mimetype": "text/x-python",
   "name": "python",
   "nbconvert_exporter": "python",
   "pygments_lexer": "ipython3",
   "version": "3.9.7"
  }
 },
 "nbformat": 4,
 "nbformat_minor": 5
}
