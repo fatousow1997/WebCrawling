{
 "cells": [
  {
   "cell_type": "code",
   "execution_count": 1,
   "id": "3a05a833",
   "metadata": {},
   "outputs": [],
   "source": [
    "import pymongo\n"
   ]
  },
  {
   "cell_type": "code",
   "execution_count": 2,
   "id": "2937db6c",
   "metadata": {},
   "outputs": [],
   "source": [
    "import pandas as pd"
   ]
  },
  {
   "cell_type": "code",
   "execution_count": 9,
   "id": "6402c918",
   "metadata": {},
   "outputs": [],
   "source": [
    "IphoneTel = pd.read_csv(\"C:/Users/FATOU/Desktop/ProjetNoSqlSurGit/ExtractionDesDonnees/DonneesExtraites/TelephoneIphoneJumia.csv\")\n",
    "TabletteTactile = pd.read_csv(\"C:/Users/FATOU/Desktop/ProjetNoSqlSurGit/ExtractionDesDonnees/DonneesExtraites//TabletteTabletteJumia.csv\")\n"
   ]
  },
  {
   "cell_type": "code",
   "execution_count": 10,
   "id": "68792abf",
   "metadata": {},
   "outputs": [],
   "source": [
    "def dftomonogdb(df,collection_name):\n",
    "    import pymongo\n",
    "    connect = pymongo.MongoClient(host=\"localhost\",port=27017)\n",
    "    database = connect[\"WebCrawling\"]\n",
    "    collection = database[collection_name]\n",
    "\n",
    "    for (row,rs) in df.iterrows():\n",
    "       \n",
    "        image = rs[0]\n",
    "        name = rs[1]\n",
    "        new_price = rs[2]\n",
    "        old_price = rs[3]\n",
    "        url =rs[4]\n",
    "        d = {\"image\":image,\"name\":name,\"new_price\":new_price,\n",
    "             \"old_price\":old_price,\"url\":url}\n",
    "        \n",
    "        collection.insert_one(d)\n",
    "        \n",
    "        \n",
    "        \n",
    "    print(\"All data are inserted to the Db\")"
   ]
  },
  {
   "cell_type": "code",
   "execution_count": null,
   "id": "964ed762",
   "metadata": {},
   "outputs": [],
   "source": [
    "collection_name=\"IphoneTel\"\n",
    "dftomonogdb(df,collection_name)"
   ]
  }
 ],
 "metadata": {
  "kernelspec": {
   "display_name": "Python 3 (ipykernel)",
   "language": "python",
   "name": "python3"
  },
  "language_info": {
   "codemirror_mode": {
    "name": "ipython",
    "version": 3
   },
   "file_extension": ".py",
   "mimetype": "text/x-python",
   "name": "python",
   "nbconvert_exporter": "python",
   "pygments_lexer": "ipython3",
   "version": "3.9.7"
  }
 },
 "nbformat": 4,
 "nbformat_minor": 5
}
