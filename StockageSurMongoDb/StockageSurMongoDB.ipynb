{
 "cells": [
  {
   "cell_type": "code",
   "execution_count": 1,
   "id": "6d9261ca",
   "metadata": {},
   "outputs": [],
   "source": [
    "import pymongo\n"
   ]
  },
  {
   "cell_type": "code",
   "execution_count": 2,
   "id": "dc0927c1",
   "metadata": {},
   "outputs": [],
   "source": [
    "import pandas as pd"
   ]
  },
  {
   "cell_type": "code",
   "execution_count": 9,
   "id": "b2a9f524",
   "metadata": {},
   "outputs": [],
   "source": [
    "IphoneTel = pd.read_csv(\"C:/Users/FATOU/Desktop/ProjetNoSqlSurGit/ExtractionDesDonnees/DonneesExtraites/TelephoneIphoneJumia.csv\")\n",
    "TabletteTactile = pd.read_csv(\"C:/Users/FATOU/Desktop/ProjetNoSqlSurGit/ExtractionDesDonnees/DonneesExtraites//TabletteTabletteJumia.csv\")\n"
   ]
  },
  {
   "cell_type": "code",
   "execution_count": 10,
   "id": "c46eead1",
   "metadata": {},
   "outputs": [],
   "source": [
    "def dftomonogdb(df,collection_name):\n",
    "    import pymongo\n",
    "    connect = pymongo.MongoClient(host=\"localhost\",port=27017)\n",
    "    database = connect[\"WebCrawling\"]\n",
    "    collection = database[collection_name]\n",
    "\n",
    "    for (row,rs) in df.iterrows():\n",
    "       \n",
    "        image = rs[0]\n",
    "        name = rs[1]\n",
    "        new_price = rs[2]\n",
    "        old_price = rs[3]\n",
    "        url =rs[4]\n",
    "        d = {\"image\":image,\"name\":name,\"new_price\":new_price,\n",
    "             \"old_price\":old_price,\"url\":url}\n",
    "        \n",
    "        collection.insert_one(d)\n",
    "        \n",
    "        \n",
    "        \n",
    "    print(\"All data are inserted to the Db\")"
   ]
  },
  {
   "cell_type": "code",
   "execution_count": 11,
   "id": "65b1e369",
   "metadata": {},
   "outputs": [
    {
     "name": "stdout",
     "output_type": "stream",
     "text": [
      "All data are inserted to the Db\n"
     ]
    }
   ],
   "source": [
    "collection_name=\"IphoneTel\"\n",
    "dftomonogdb(IphoneTel,collection_name)"
   ]
  },
  {
   "cell_type": "code",
   "execution_count": 13,
   "id": "c2a66fb0",
   "metadata": {},
   "outputs": [
    {
     "ename": "NameError",
     "evalue": "name 'dftomonogdbTablette' is not defined",
     "output_type": "error",
     "traceback": [
      "\u001b[1;31m---------------------------------------------------------------------------\u001b[0m",
      "\u001b[1;31mNameError\u001b[0m                                 Traceback (most recent call last)",
      "\u001b[1;32m~\\AppData\\Local\\Temp/ipykernel_18916/1899901054.py\u001b[0m in \u001b[0;36m<module>\u001b[1;34m\u001b[0m\n\u001b[0;32m      1\u001b[0m \u001b[0mcollection_name\u001b[0m\u001b[1;33m=\u001b[0m\u001b[1;34m\"TabletteTactile\"\u001b[0m\u001b[1;33m\u001b[0m\u001b[1;33m\u001b[0m\u001b[0m\n\u001b[1;32m----> 2\u001b[1;33m \u001b[0mdftomonogdbTablette\u001b[0m\u001b[1;33m(\u001b[0m\u001b[0mTactile\u001b[0m\u001b[1;33m,\u001b[0m\u001b[0mcollection_name\u001b[0m\u001b[1;33m)\u001b[0m\u001b[1;33m\u001b[0m\u001b[1;33m\u001b[0m\u001b[0m\n\u001b[0m",
      "\u001b[1;31mNameError\u001b[0m: name 'dftomonogdbTablette' is not defined"
     ]
    }
   ],
   "source": [
    "collection_name=\"TabletteTactile\"\n",
    "dftomonogdbTabletteTactile,collection_name)"
   ]
  },
  {
   "cell_type": "code",
   "execution_count": null,
   "id": "aa8a39ca",
   "metadata": {},
   "outputs": [],
   "source": []
  }
 ],
 "metadata": {
  "kernelspec": {
   "display_name": "Python 3 (ipykernel)",
   "language": "python",
   "name": "python3"
  },
  "language_info": {
   "codemirror_mode": {
    "name": "ipython",
    "version": 3
   },
   "file_extension": ".py",
   "mimetype": "text/x-python",
   "name": "python",
   "nbconvert_exporter": "python",
   "pygments_lexer": "ipython3",
   "version": "3.9.7"
  }
 },
 "nbformat": 4,
 "nbformat_minor": 5
}
